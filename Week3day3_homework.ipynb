{
 "cells": [
  {
   "cell_type": "markdown",
   "id": "6238069c",
   "metadata": {},
   "source": [
    "### Pokemon API Wrapper"
   ]
  },
  {
   "cell_type": "markdown",
   "id": "a07e2bbe",
   "metadata": {},
   "source": [
    "##### Create a python wrapper for the Pokemon API. It should take in a pokemon name and display the pokemon with its height and weight"
   ]
  },
  {
   "cell_type": "code",
   "execution_count": 1,
   "id": "84499e92",
   "metadata": {},
   "outputs": [],
   "source": [
    "# base_url = \"https://pokeapi.co/api/v2\"\n",
    "# api_method = \"pokemon\"\n",
    "# q = 'magmar'\n",
    "\n",
    "# request_url = f\"{base_url}/{api_method}/{q}\"\n"
   ]
  },
  {
   "cell_type": "markdown",
   "id": "2e28b469",
   "metadata": {},
   "source": [
    "<!-- This is what I had before I went over it in class. \n",
    "I forgot to add the \"import request\" and thought i could find a way to go throught the data without it.\n",
    "litterally couldn't figure out why it wasn't working. -->"
   ]
  },
  {
   "cell_type": "code",
   "execution_count": 3,
   "id": "930111d7",
   "metadata": {},
   "outputs": [],
   "source": [
    "\n",
    "\n",
    "\n",
    "# class Pokemonapi:\n",
    "\n",
    "#     def __init__(self, name):\n",
    "#         self.name = name\n",
    "# #         self.base_url = f\"https://pokeapi.co/api/v2/pokemon/{self.name}\"\n",
    "        \n",
    "# #         poke_res = requests.get(self.base_url)\n",
    "# #         poke_dex = poke_res.json()\n",
    "# #         print(poke_dex['height'])\n",
    "        \n",
    "# #         print(poke_dex['height'])\n",
    "        \n",
    "        \n",
    "#     def get_pokemon_height(self,):\n",
    "#         self.base_url = f\"https://pokeapi.co/api/v2/pokemon/{self.name}\"\n",
    "#         poke_res = requests.get(self.base_url)\n",
    "#         poke_dex = poke_res.json()\n",
    "#         poke_res = requests.get(self.base_url)\n",
    "#         return poke_res\n",
    "    \n",
    "# #     def get_pokemon_wight(self,):\n",
    "# #         return self.weight\n",
    "    \n",
    "    \n",
    "        \n",
    "# Pokemonapi(\"magmar\")\n",
    "# Pokemonapi.get_pokemon_height(\"magmar\")\n"
   ]
  },
  {
   "cell_type": "code",
   "execution_count": null,
   "id": "cb2c54ec",
   "metadata": {},
   "outputs": [],
   "source": [
    "# This is the class walk though witht he \"import requests\""
   ]
  },
  {
   "cell_type": "code",
   "execution_count": 47,
   "id": "b0ad04b9",
   "metadata": {},
   "outputs": [],
   "source": [
    "import requests"
   ]
  },
  {
   "cell_type": "code",
   "execution_count": 48,
   "id": "6c5f28ee",
   "metadata": {},
   "outputs": [
    {
     "name": "stdout",
     "output_type": "stream",
     "text": [
      "Magmar's height and weight are, 13ft and 445lbs.\n"
     ]
    }
   ],
   "source": [
    "class Pokemonapi:\n",
    "\n",
    "    def __init__(self):\n",
    "        self.base_url = f\"https://pokeapi.co/api/v2/\"\n",
    "       \n",
    "        \n",
    "    def _get(self, endpoint, name):\n",
    "        request_url = f\"{self.base_url}/{endpoint}/{name}\"\n",
    "        res = requests.get(request_url)\n",
    "        if res.ok:\n",
    "            return res.json()\n",
    "        else:\n",
    "            print('ERROR')\n",
    "        \n",
    "        \n",
    "    \n",
    "    \n",
    "    def get_pokedex_name(self, pokename):\n",
    "        data = self._get(\"pokemon\", pokename)\n",
    "        display_height = f\"{data['height']}\"\n",
    "        display_weight = f\"{data['weight']}\"\n",
    "        \n",
    "        print(f\"{pokename.title()}'s height and weight are, {display_height}ft and {display_weight}lbs.\")\n",
    "        \n",
    "\n",
    "        \n",
    "    \n",
    "    \n",
    "poke_trainer = Pokemonapi()        \n",
    "poke_trainer.get_pokedex_name(\"magmar\")"
   ]
  },
  {
   "cell_type": "code",
   "execution_count": 49,
   "id": "93e78733",
   "metadata": {},
   "outputs": [
    {
     "name": "stdout",
     "output_type": "stream",
     "text": [
      "Charmander's height and weight are, 6ft and 85lbs.\n"
     ]
    }
   ],
   "source": [
    "poke_trainer.get_pokedex_name('charmander')"
   ]
  },
  {
   "cell_type": "code",
   "execution_count": 51,
   "id": "7afa3f59",
   "metadata": {},
   "outputs": [
    {
     "name": "stdout",
     "output_type": "stream",
     "text": [
      "What Pokemon would you like to know more about?quit\n"
     ]
    }
   ],
   "source": [
    "def trainers_input():\n",
    "    poke_trainer = Pokemonapi()\n",
    "    while True:\n",
    "        pokename = input('What Pokemon would you like to know more about?').lower()\n",
    "        if pokename == 'quit':\n",
    "            break\n",
    "        poke_trainer.get_pokedex_name(pokename)\n",
    "            \n",
    "trainers_input()"
   ]
  },
  {
   "cell_type": "code",
   "execution_count": null,
   "id": "31b38983",
   "metadata": {},
   "outputs": [],
   "source": []
  },
  {
   "cell_type": "code",
   "execution_count": null,
   "id": "33b9d1a1",
   "metadata": {},
   "outputs": [],
   "source": []
  }
 ],
 "metadata": {
  "kernelspec": {
   "display_name": "Python 3 (ipykernel)",
   "language": "python",
   "name": "python3"
  },
  "language_info": {
   "codemirror_mode": {
    "name": "ipython",
    "version": 3
   },
   "file_extension": ".py",
   "mimetype": "text/x-python",
   "name": "python",
   "nbconvert_exporter": "python",
   "pygments_lexer": "ipython3",
   "version": "3.9.7"
  }
 },
 "nbformat": 4,
 "nbformat_minor": 5
}
